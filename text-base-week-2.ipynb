{
 "cells": [
  {
   "cell_type": "code",
   "execution_count": 4,
   "id": "9fcf2309",
   "metadata": {},
   "outputs": [
    {
     "name": "stdout",
     "output_type": "stream",
     "text": [
      "hello\n"
     ]
    }
   ],
   "source": [
    "A=\"hello\"\n",
    "print(A)"
   ]
  },
  {
   "cell_type": "code",
   "execution_count": 2,
   "id": "706026da",
   "metadata": {},
   "outputs": [
    {
     "name": "stdout",
     "output_type": "stream",
     "text": [
      "llo\n"
     ]
    }
   ],
   "source": [
    "B=\"Hello, World!\"\n",
    "print(B[2:5])"
   ]
  },
  {
   "cell_type": "code",
   "execution_count": 5,
   "id": "feea4384",
   "metadata": {},
   "outputs": [
    {
     "name": "stdout",
     "output_type": "stream",
     "text": [
      "HELLO, WORLD\n",
      "hello, world\n",
      "Jello, World\n"
     ]
    }
   ],
   "source": [
    "A=\"Hello, World\"\n",
    "print(A.upper())\n",
    "print(A.lower())\n",
    "print(A.replace(\"H\",\"J\"))\n"
   ]
  },
  {
   "cell_type": "code",
   "execution_count": 7,
   "id": "1a38b40e",
   "metadata": {},
   "outputs": [
    {
     "name": "stdout",
     "output_type": "stream",
     "text": [
      "Hello World\n"
     ]
    }
   ],
   "source": [
    "A=\"Hello\"\n",
    "B=\"World\"\n",
    "C=A+\" \"+B\n",
    "print(C)"
   ]
  },
  {
   "cell_type": "code",
   "execution_count": 8,
   "id": "51a99f64",
   "metadata": {},
   "outputs": [
    {
     "data": {
      "text/plain": [
       "['One', 'two', 'three', 'four']"
      ]
     },
     "execution_count": 8,
     "metadata": {},
     "output_type": "execute_result"
    }
   ],
   "source": [
    "my_string='One two three four'\n",
    "word_list=my_string.split()\n",
    "word_list\n",
    "\n"
   ]
  },
  {
   "cell_type": "code",
   "execution_count": 9,
   "id": "bf189d29",
   "metadata": {},
   "outputs": [
    {
     "data": {
      "text/plain": [
       "['1', '2', '3', '4', '5']"
      ]
     },
     "execution_count": 9,
     "metadata": {},
     "output_type": "execute_result"
    }
   ],
   "source": [
    "my_string='1/2/3/4/5'\n",
    "number_list=my_string.split('/')\n",
    "number_list\n",
    "\n"
   ]
  },
  {
   "cell_type": "code",
   "execution_count": 10,
   "id": "961fcb67",
   "metadata": {},
   "outputs": [
    {
     "data": {
      "text/plain": [
       "['21', '42', '23', '34', '54']"
      ]
     },
     "execution_count": 10,
     "metadata": {},
     "output_type": "execute_result"
    }
   ],
   "source": [
    "my_string='21/42/23/34/54'\n",
    "number_list=my_string.split('/')\n",
    "number_list\n"
   ]
  },
  {
   "cell_type": "code",
   "execution_count": 11,
   "id": "a74808e2",
   "metadata": {},
   "outputs": [
    {
     "data": {
      "text/plain": [
       "['peach', 'raspberry', 'strawberry', 'vanilla']"
      ]
     },
     "execution_count": 11,
     "metadata": {},
     "output_type": "execute_result"
    }
   ],
   "source": [
    "my_string='peach raspberry strawberry vanilla'\n",
    "word_list=my_string.split()\n",
    "word_list\n"
   ]
  },
  {
   "cell_type": "code",
   "execution_count": 12,
   "id": "92742707",
   "metadata": {},
   "outputs": [
    {
     "data": {
      "text/plain": [
       "['17', '92', '81', '12', '46', '5']"
      ]
     },
     "execution_count": 12,
     "metadata": {},
     "output_type": "execute_result"
    }
   ],
   "source": [
    "my_string='17;92;81;12;46;5'\n",
    "number_list=my_string.split(';')\n",
    "number_list\n"
   ]
  },
  {
   "cell_type": "code",
   "execution_count": 13,
   "id": "f90b2d04",
   "metadata": {},
   "outputs": [
    {
     "data": {
      "text/plain": [
       "False"
      ]
     },
     "execution_count": 13,
     "metadata": {},
     "output_type": "execute_result"
    }
   ],
   "source": [
    "a= 'I AM STUDENT'\n",
    "a.islower()"
   ]
  },
  {
   "cell_type": "code",
   "execution_count": 14,
   "id": "7e085928",
   "metadata": {},
   "outputs": [
    {
     "data": {
      "text/plain": [
       "'i am student '"
      ]
     },
     "execution_count": 14,
     "metadata": {},
     "output_type": "execute_result"
    }
   ],
   "source": [
    "b =' i am student '\n",
    "b.lstrip()"
   ]
  },
  {
   "cell_type": "code",
   "execution_count": 15,
   "id": "3c672200",
   "metadata": {},
   "outputs": [
    {
     "data": {
      "text/plain": [
       "True"
      ]
     },
     "execution_count": 15,
     "metadata": {},
     "output_type": "execute_result"
    }
   ],
   "source": [
    "c= '12'\n",
    "c.isalnum()"
   ]
  },
  {
   "cell_type": "code",
   "execution_count": 16,
   "id": "3bb71d09",
   "metadata": {},
   "outputs": [
    {
     "data": {
      "text/plain": [
       "True"
      ]
     },
     "execution_count": 16,
     "metadata": {},
     "output_type": "execute_result"
    }
   ],
   "source": [
    "d='Hello'\n",
    "d.isalpha()"
   ]
  },
  {
   "cell_type": "code",
   "execution_count": 17,
   "id": "f77595b4",
   "metadata": {},
   "outputs": [
    {
     "data": {
      "text/plain": [
       "True"
      ]
     },
     "execution_count": 17,
     "metadata": {},
     "output_type": "execute_result"
    }
   ],
   "source": [
    "e = '1234'\n",
    "e.isdigit()"
   ]
  },
  {
   "cell_type": "code",
   "execution_count": 18,
   "id": "be6ef6c9",
   "metadata": {},
   "outputs": [
    {
     "name": "stdout",
     "output_type": "stream",
     "text": [
      "<class 'str'>\n",
      "True\n",
      "False\n",
      "False\n",
      "False\n",
      "False\n",
      "True\n"
     ]
    }
   ],
   "source": [
    "f= 'GIAPP5841P'\n",
    "print(type(f))\n",
    "print(f.isalnum())\n",
    "print(f.islower())\n",
    "print(f.isalpha())\n",
    "print(f.isdigit())\n",
    "print(f.isspace())\n",
    "print(f.isupper())"
   ]
  },
  {
   "cell_type": "code",
   "execution_count": 19,
   "id": "190e3529",
   "metadata": {},
   "outputs": [
    {
     "name": "stdout",
     "output_type": "stream",
     "text": [
      "<class 'str'>\n"
     ]
    },
    {
     "data": {
      "text/plain": [
       "'giapp5841p'"
      ]
     },
     "execution_count": 19,
     "metadata": {},
     "output_type": "execute_result"
    }
   ],
   "source": [
    "g= 'GIAPP5841P'\n",
    "print(type(f))\n",
    "g.lower()"
   ]
  },
  {
   "cell_type": "code",
   "execution_count": 20,
   "id": "634f7fcf",
   "metadata": {},
   "outputs": [
    {
     "name": "stdout",
     "output_type": "stream",
     "text": [
      "<class 'str'>\n",
      "   Dharma Tej \n"
     ]
    }
   ],
   "source": [
    "h = '   Dharma Tej '\n",
    "print(type(h))\n",
    "print(h)"
   ]
  },
  {
   "cell_type": "code",
   "execution_count": 21,
   "id": "592b7c60",
   "metadata": {},
   "outputs": [
    {
     "data": {
      "text/plain": [
       "'Dharma Tej '"
      ]
     },
     "execution_count": 21,
     "metadata": {},
     "output_type": "execute_result"
    }
   ],
   "source": [
    "h.lstrip()"
   ]
  },
  {
   "cell_type": "code",
   "execution_count": 22,
   "id": "4ba0fb6c",
   "metadata": {},
   "outputs": [
    {
     "name": "stdout",
     "output_type": "stream",
     "text": [
      "<class 'str'>\n"
     ]
    },
    {
     "data": {
      "text/plain": [
       "' Hello Dharma ###'"
      ]
     },
     "execution_count": 22,
     "metadata": {},
     "output_type": "execute_result"
    }
   ],
   "source": [
    "i = '### Hello Dharma ###'\n",
    "print(type(i))\n",
    "i.lstrip('#')"
   ]
  },
  {
   "cell_type": "code",
   "execution_count": 23,
   "id": "5d4e5637",
   "metadata": {},
   "outputs": [
    {
     "data": {
      "text/plain": [
       "'### Hello Dharma ###'"
      ]
     },
     "execution_count": 23,
     "metadata": {},
     "output_type": "execute_result"
    }
   ],
   "source": [
    "i.rstrip()"
   ]
  },
  {
   "cell_type": "code",
   "execution_count": 24,
   "id": "71589b0a",
   "metadata": {},
   "outputs": [
    {
     "data": {
      "text/plain": [
       "'### Hello Dharma '"
      ]
     },
     "execution_count": 24,
     "metadata": {},
     "output_type": "execute_result"
    }
   ],
   "source": [
    "i.rstrip('#')"
   ]
  },
  {
   "cell_type": "code",
   "execution_count": 25,
   "id": "f85b95a5",
   "metadata": {},
   "outputs": [
    {
     "data": {
      "text/plain": [
       "'### Hello Dharma ###'"
      ]
     },
     "execution_count": 25,
     "metadata": {},
     "output_type": "execute_result"
    }
   ],
   "source": [
    "i.strip()"
   ]
  },
  {
   "cell_type": "code",
   "execution_count": 26,
   "id": "2aab396f",
   "metadata": {},
   "outputs": [
    {
     "data": {
      "text/plain": [
       "' Hello Dharma '"
      ]
     },
     "execution_count": 26,
     "metadata": {},
     "output_type": "execute_result"
    }
   ],
   "source": [
    "i.strip('#')"
   ]
  },
  {
   "cell_type": "code",
   "execution_count": 27,
   "id": "c81a3321",
   "metadata": {},
   "outputs": [
    {
     "data": {
      "text/plain": [
       "'### HELLO DHARMA ###'"
      ]
     },
     "execution_count": 27,
     "metadata": {},
     "output_type": "execute_result"
    }
   ],
   "source": [
    "i.upper()"
   ]
  }
 ],
 "metadata": {
  "kernelspec": {
   "display_name": "Python 3 (ipykernel)",
   "language": "python",
   "name": "python3"
  },
  "language_info": {
   "codemirror_mode": {
    "name": "ipython",
    "version": 3
   },
   "file_extension": ".py",
   "mimetype": "text/x-python",
   "name": "python",
   "nbconvert_exporter": "python",
   "pygments_lexer": "ipython3",
   "version": "3.12.1"
  }
 },
 "nbformat": 4,
 "nbformat_minor": 5
}
